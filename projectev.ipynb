{
 "cells": [
  {
   "attachments": {},
   "cell_type": "markdown",
   "metadata": {},
   "source": [
    "Q1"
   ]
  },
  {
   "cell_type": "code",
   "execution_count": 11,
   "metadata": {},
   "outputs": [
    {
     "data": {
      "image/png": "[encoded data removed]",
      "text/plain": [
       "<Figure size 432x288 with 1 Axes>"
      ]
     },
     "metadata": {
      "needs_background": "light"
     },
     "output_type": "display_data"
    },
    {
     "name": "stdout",
     "output_type": "stream",
     "text": [
      "2015 936\n",
      "2016 993\n",
      "2017 443\n"
     ]
    }
   ],
   "source": [
    "import numpy as np\n",
    "import matplotlib.pyplot as plt\n",
    "import pandas as pd\n",
    "\n",
    "\n",
    "df = pd.read_csv('startup_funding.csv')\n",
    "dates = df['Date'].str[-4:]\n",
    "\n",
    "d = {}\n",
    "for i in dates:\n",
    "    d[i] = d.get(i,0) + 1\n",
    "\n",
    "year = []\n",
    "funding = []\n",
    "\n",
    "for i in sorted(d.keys()):\n",
    "    year.append(i)\n",
    "    funding.append(d[i])\n",
    "\n",
    "plt.plot(year,funding,color = 'orchid', marker = 'o')\n",
    "plt.show()\n",
    "\n",
    "for i in range(len(year)):\n",
    "    print(year[i], end = \" \")\n",
    "    print(funding[i])"
   ]
  },
  {
   "attachments": {},
   "cell_type": "markdown",
   "metadata": {},
   "source": [
    "Q2"
   ]
  },
  {
   "cell_type": "code",
   "execution_count": 12,
   "metadata": {},
   "outputs": [
    {
     "name": "stdout",
     "output_type": "stream",
     "text": [
      "Bangalore 635\n",
      "Mumbai 449\n",
      "New Delhi 389\n",
      "Gurgaon 241\n",
      "Pune 91\n",
      "Noida 79\n",
      "Hyderabad 77\n",
      "Chennai 67\n",
      "Ahmedabad 35\n",
      "Jaipur 25\n"
     ]
    }
   ],
   "source": [
    "import pandas as pd\n",
    "df=pd.read_csv(\"startup_funding.csv\")\n",
    "df[\"CityLocation\"].replace(['bangalore','Bangalore/ Bangkok','Bangalore / SFO','Bangalore / USA','Bangalore / Palo Alto','Bangalore / San Mateo'],\"Bangalore\",inplace=True)\n",
    "df[\"CityLocation\"].replace(['Delhi','New Delhi / California','New Delhi / US','New Delhi/ Houston'],\"New Delhi\",inplace=True)\n",
    "df[\"CityLocation\"].replace(['Pune/Seattle','Pune / Dubai','Pune / US','Pune / Singapore'],'Pune',inplace=True)\n",
    "df[\"CityLocation\"].replace(['Mumbai / UK','Mumbai / NY','Mumbai / Global'],'Mumbai',inplace=True)\n",
    "df[\"CityLocation\"].replace(['Hyderabad/USA'],'Hyderabad',inplace=True)\n",
    "df[\"CityLocation\"].replace(['Chennai/ Singapore'],'Chennai',inplace=True)\n",
    "df[\"CityLocation\"].replace(['Noida / Singapore'],'Noida',inplace=True)\n",
    "df[\"CityLocation\"].replace(['Gurgaon / SFO'],'Gurgaon',inplace=True)\n",
    "df[\"CityLocation\"].replace(['Goa/Hyderabad'],'Goa',inplace=True)\n",
    "\n",
    "City_Funding_info=df[\"CityLocation\"].value_counts()\n",
    "for k in range(10):\n",
    "    print(City_Funding_info.index[k],City_Funding_info.values[k])"
   ]
  },
  {
   "attachments": {},
   "cell_type": "markdown",
   "metadata": {},
   "source": [
    "Q3"
   ]
  },
  {
   "cell_type": "code",
   "execution_count": 22,
   "metadata": {},
   "outputs": [
    {
     "name": "stdout",
     "output_type": "stream",
     "text": [
      "Bangalore 49.71\n",
      "New Delhi 16.63\n",
      "Mumbai 13.90\n",
      "Gurgaon 12.21\n",
      "Chennai 2.43\n",
      "Pune 2.16\n",
      "Hyderabad 1.15\n",
      "Noida 1.01\n",
      "Ahmedabad 0.58\n",
      "Jaipur 0.21\n"
     ]
    },
    {
     "name": "stderr",
     "output_type": "stream",
     "text": [
      "C:\\Users\\Ambar\\AppData\\Local\\Temp\\ipykernel_4644\\1724034894.py:39: SettingWithCopyWarning: \n",
      "A value is trying to be set on a copy of a slice from a DataFrame.\n",
      "Try using .loc[row_indexer,col_indexer] = value instead\n",
      "\n",
      "See the caveats in the documentation: https://pandas.pydata.org/pandas-docs/stable/user_guide/indexing.html#returning-a-view-versus-a-copy\n",
      "  Top_10_cities[\"Percetage\"]=Top_10_cities[\"TotalFundingAmount\"].apply(lambda x: '%.2f'%(100*(x/Top_10_cities[\"TotalFundingAmount\"].sum())))\n"
     ]
    }
   ],
   "source": [
    "import pandas as pd\n",
    "import matplotlib.pyplot as plt\n",
    "import numpy as np\n",
    "\n",
    "def number(arr):\n",
    "    num=\"\"\n",
    "    for i in arr:\n",
    "        num+=i\n",
    "    return int(num)\n",
    "    pass\n",
    "\n",
    "df=pd.read_csv(\"startup_funding.csv\")\n",
    "df[\"CityLocation\"].fillna(\"NotAvailable\",inplace=True)\n",
    "df[\"CityLocation\"].replace(['bangalore','Bangalore/ Bangkok','Bangalore / SFO','Bangalore / USA','Bangalore / Palo Alto','Bangalore / San Mateo'],\"Bangalore\",inplace=True)\n",
    "df[\"CityLocation\"].replace(['Delhi','New Delhi / California','New Delhi / US','New Delhi/ Houston'],\"New Delhi\",inplace=True)\n",
    "df[\"CityLocation\"].replace(['Pune/Seattle','Pune / Dubai','Pune / US','Pune / Singapore'],'Pune',inplace=True)\n",
    "df[\"CityLocation\"].replace(['Mumbai / UK','Mumbai / NY','Mumbai / Global'],'Mumbai',inplace=True)\n",
    "df[\"CityLocation\"].replace(['Hyderabad/USA'],'Hyderabad',inplace=True)\n",
    "df[\"CityLocation\"].replace(['Chennai/ Singapore'],'Chennai',inplace=True)\n",
    "df[\"CityLocation\"].replace(['Noida / Singapore'],'Noida',inplace=True)\n",
    "df[\"CityLocation\"].replace(['Gurgaon / SFO'],'Gurgaon',inplace=True)\n",
    "df[\"CityLocation\"].replace(['Goa/Hyderabad'],'Goa',inplace=True)\n",
    "df[\"AmountInUSD\"].fillna('0',inplace=True)\n",
    "df[\"AmountInUSD\"]=df[\"AmountInUSD\"].apply(lambda x: number(x.split(',')))\n",
    "\n",
    "\n",
    "City_list=list(df[\"CityLocation\"].unique())\n",
    "City_info=[]\n",
    "for k in City_list:\n",
    "    df_city=df[df[\"CityLocation\"]==k]\n",
    "    City_info.append([k,df_city[\"AmountInUSD\"].sum()])\n",
    "     \n",
    "City_fundings=pd.DataFrame(City_info,columns=[\"CityLocation\",\"TotalFundingAmount\"])\n",
    "City_fundings.sort_values(\"TotalFundingAmount\",ascending=False,inplace=True)\n",
    "City_fundings.drop(31,inplace=True)\n",
    "\n",
    "Top_10_cities=City_fundings[0:10]\n",
    "\n",
    "Top_10_cities[\"Percetage\"]=Top_10_cities[\"TotalFundingAmount\"].apply(lambda x: '%.2f'%(100*(x/Top_10_cities[\"TotalFundingAmount\"].sum())))\n",
    "for i in range(10):\n",
    "    print(Top_10_cities.iloc[i][0],Top_10_cities.iloc[i][2])"
   ]
  },
  {
   "attachments": {},
   "cell_type": "markdown",
   "metadata": {},
   "source": [
    "Q4"
   ]
  },
  {
   "cell_type": "code",
   "execution_count": 25,
   "metadata": {},
   "outputs": [
    {
     "name": "stdout",
     "output_type": "stream",
     "text": [
      "Private Equity 98.15\n",
      "Seed Funding 1.81\n",
      "Debt Funding 0.04\n",
      "Crowd Funding 0.00\n"
     ]
    },
    {
     "data": {
      "image/png": "[encoded data removed]",
      "text/plain": [
       "<Figure size 432x288 with 1 Axes>"
      ]
     },
     "metadata": {},
     "output_type": "display_data"
    }
   ],
   "source": [
    "import pandas as pd \n",
    "import matplotlib.pyplot as plt\n",
    "import numpy as np\n",
    "\n",
    "df = pd.read_csv('startup_funding.csv')\n",
    "df['InvestmentType'].replace({'PrivateEquity':'Private Equity','SeedFunding':'Seed Funding','Crowd funding':'Crowd Funding'},inplace = True)\n",
    "df['AmountInUSD'] = df['AmountInUSD'].apply(lambda x: float(str(x).replace(',','')))\n",
    "\n",
    "filt = df.groupby('InvestmentType')['AmountInUSD'].sum().sort_values(ascending = False)\n",
    "\n",
    "Amount = filt.values\n",
    "\n",
    "for i in range(4):\n",
    "    Amount[i] = float((\"{:f}\".format(Amount[i])))\n",
    "    \n",
    "Funding = ['Private Equity','Seed Funding','Debt Funding','Crowd Funding']\n",
    "TotalSum = sum(Amount)\n",
    "Percentage = []\n",
    "for i in range(4):\n",
    "    Percentage.append((Amount[i]/TotalSum)*100)\n",
    "    Percentage[i] = f\"{Percentage[i]:.2f}\"\n",
    "for i in range(4):\n",
    "    print(Funding[i],Percentage[i])\n",
    "\n",
    "plt.pie(Amount,labels=Funding,autopct='%.2f')\n",
    "plt.show()"
   ]
  },
  {
   "attachments": {},
   "cell_type": "markdown",
   "metadata": {},
   "source": [
    "Q5"
   ]
  },
  {
   "cell_type": "code",
   "execution_count": 26,
   "metadata": {},
   "outputs": [
    {
     "name": "stdout",
     "output_type": "stream",
     "text": [
      "Ecommerce 40.53\n",
      "Consumer Internet 35.95\n",
      "Technology 10.45\n",
      "Online Marketplace 6.63\n",
      "E-Commerce & M-Commerce platform 6.44\n"
     ]
    },
    {
     "name": "stderr",
     "output_type": "stream",
     "text": [
      "C:\\Users\\Ambar\\AppData\\Local\\Temp\\ipykernel_4644\\1220324111.py:23: SettingWithCopyWarning: \n",
      "A value is trying to be set on a copy of a slice from a DataFrame.\n",
      "Try using .loc[row_indexer,col_indexer] = value instead\n",
      "\n",
      "See the caveats in the documentation: https://pandas.pydata.org/pandas-docs/stable/user_guide/indexing.html#returning-a-view-versus-a-copy\n",
      "  Top5_Industry[\"Percentage\"]=Top5_Industry[\"Amount\"].apply(lambda x:\"%.2f\"%(100*(x/Top5_Industry[\"Amount\"].sum())))\n"
     ]
    }
   ],
   "source": [
    "import pandas as pd\n",
    "import numpy as np\n",
    "\n",
    "def number(arr):\n",
    "    num=\"\"\n",
    "    for i in arr:\n",
    "        num+=i\n",
    "    return int(num)\n",
    "\n",
    "df=pd.read_csv(\"startup_funding.csv\")\n",
    "df[\"IndustryVertical\"].replace([\"ECommerce\",\"ecommerce\",\"eCommerce\"],\"Ecommerce\",inplace=True)\n",
    "df[\"AmountInUSD\"].fillna('0',inplace=True)\n",
    "df[\"AmountInUSD\"]=df[\"AmountInUSD\"].apply(lambda x: number(x.split(',')))\n",
    "\n",
    "Industry_Info=[]\n",
    "for Industry in list(df[\"IndustryVertical\"].unique()):\n",
    "    df_Industry=df[df[\"IndustryVertical\"]==Industry]\n",
    "    Industry_Info.append([Industry,df_Industry[\"AmountInUSD\"].sum()])\n",
    "    \n",
    "Industry_Funding=pd.DataFrame(Industry_Info,columns=[\"Industry\",\"Amount\"])\n",
    "Industry_Funding.sort_values(\"Amount\",ascending=False,inplace=True)\n",
    "Top5_Industry=Industry_Funding[0:5]\n",
    "Top5_Industry[\"Percentage\"]=Top5_Industry[\"Amount\"].apply(lambda x:\"%.2f\"%(100*(x/Top5_Industry[\"Amount\"].sum())))\n",
    "for i in range(5):\n",
    "    print(Top5_Industry.iloc[i][0],Top5_Industry.iloc[i][2])"
   ]
  },
  {
   "attachments": {},
   "cell_type": "markdown",
   "metadata": {},
   "source": [
    "Q6"
   ]
  },
  {
   "cell_type": "code",
   "execution_count": 27,
   "metadata": {},
   "outputs": [
    {
     "name": "stdout",
     "output_type": "stream",
     "text": [
      "Paytm\n",
      "Flipkart\n",
      "Ola\n",
      "Snapdeal\n",
      "Oyo\n"
     ]
    }
   ],
   "source": [
    "import pandas as pd\n",
    "import numpy as np\n",
    "df=pd.read_csv(\"startup_funding.csv\")\n",
    "df[\"StartupName\"].replace(\"Oyo Rooms\",\"Oyo\",inplace=True)\n",
    "df[\"StartupName\"].replace(\"Ola Cabs\",\"Ola\",inplace=True)\n",
    "df[\"StartupName\"].replace(\"Paytm Marketplace\",\"Paytm\",inplace=True)\n",
    "df[\"StartupName\"].replace(\"Flipkart.com\",\"Flipkart\",inplace=True)\n",
    "df[\"AmountInUSD\"]=df[\"AmountInUSD\"].apply(lambda x: float(str(x).replace(\",\",\"\")))\n",
    "df[\"AmountInUSD\"]=pd.to_numeric(df[\"AmountInUSD\"])\n",
    "startup_info=df.groupby(\"StartupName\")[\"AmountInUSD\"].sum().sort_values(ascending=False)[0:5]\n",
    "startup_li=startup_info.index\n",
    "for i in startup_li:\n",
    "    print(i)"
   ]
  },
  {
   "attachments": {},
   "cell_type": "markdown",
   "metadata": {},
   "source": [
    "Q7"
   ]
  },
  {
   "cell_type": "code",
   "execution_count": 28,
   "metadata": {},
   "outputs": [
    {
     "name": "stdout",
     "output_type": "stream",
     "text": [
      "Ola 9\n",
      "Swiggy 7\n",
      "UrbanClap 6\n",
      "Paytm 6\n",
      "Oyo 6\n"
     ]
    }
   ],
   "source": [
    "import pandas as pd\n",
    "import numpy as np\n",
    "df=pd.read_csv(\"startup_funding.csv\")\n",
    "df[\"StartupName\"].replace(\"Oyo Rooms\",\"Oyo\",inplace=True)\n",
    "df[\"StartupName\"].replace(\"OyoRooms\",\"Oyo\",inplace=True)\n",
    "df[\"StartupName\"].replace(\"OYO Rooms\",\"Oyo\",inplace=True)\n",
    "df[\"StartupName\"].replace(\"Oyorooms\",\"Oyo\",inplace=True)\n",
    "df[\"StartupName\"].replace(\"Ola Cabs\",\"Ola\",inplace=True)\n",
    "df[\"StartupName\"].replace(\"Olacabs\",\"Ola\",inplace=True)\n",
    "df[\"StartupName\"].replace(\"Paytm Marketplace\",\"Paytm\",inplace=True)\n",
    "df[\"StartupName\"].replace(\"Flipkart.com\",\"Flipkart\",inplace=True)\n",
    "startup_info=df[\"StartupName\"].value_counts()\n",
    "i=0\n",
    "while i<5:\n",
    "    print(startup_info.index[i],startup_info.values[i])\n",
    "    i+=1"
   ]
  },
  {
   "cell_type": "markdown",
   "metadata": {},
   "source": [
    "Q8"
   ]
  },
  {
   "cell_type": "code",
   "execution_count": 39,
   "metadata": {},
   "outputs": [
    {
     "ename": "TypeError",
     "evalue": "argument of type 'float' is not iterable",
     "output_type": "error",
     "traceback": [
      "\u001b[1;31m---------------------------------------------------------------------------\u001b[0m",
      "\u001b[1;31mTypeError\u001b[0m                                 Traceback (most recent call last)",
      "\u001b[1;32mc:\\Users\\Ambar\\OneDrive\\Desktop\\all\\myown\\vscode\\projects\\Indian_Startup_Analysis\\submission\\projectev.ipynb Cell 16\u001b[0m in \u001b[0;36m<cell line: 20>\u001b[1;34m()\u001b[0m\n\u001b[0;32m     <a href='vscode-notebook-cell:/c%3A/Users/Ambar/OneDrive/Desktop/all/myown/vscode/projects/Indian_Startup_Analysis/submission/projectev.ipynb#X21sZmlsZQ%3D%3D?line=17'>18</a>\u001b[0m \t\t\t\t\tdictionary[j\u001b[39m.\u001b[39mstrip()]\u001b[39m=\u001b[39m\u001b[39m1\u001b[39m \n\u001b[0;32m     <a href='vscode-notebook-cell:/c%3A/Users/Ambar/OneDrive/Desktop/all/myown/vscode/projects/Indian_Startup_Analysis/submission/projectev.ipynb#X21sZmlsZQ%3D%3D?line=18'>19</a>\u001b[0m \t\u001b[39mreturn\u001b[39;00m dictionary \n\u001b[1;32m---> <a href='vscode-notebook-cell:/c%3A/Users/Ambar/OneDrive/Desktop/all/myown/vscode/projects/Indian_Startup_Analysis/submission/projectev.ipynb#X21sZmlsZQ%3D%3D?line=19'>20</a>\u001b[0m dictionary\u001b[39m=\u001b[39mcreateDictionary(df_start[\u001b[39m'\u001b[39;49m\u001b[39mInvestorsName\u001b[39;49m\u001b[39m'\u001b[39;49m]) \n\u001b[0;32m     <a href='vscode-notebook-cell:/c%3A/Users/Ambar/OneDrive/Desktop/all/myown/vscode/projects/Indian_Startup_Analysis/submission/projectev.ipynb#X21sZmlsZQ%3D%3D?line=21'>22</a>\u001b[0m dataf\u001b[39m=\u001b[39mpd\u001b[39m.\u001b[39mDataFrame(\u001b[39mlist\u001b[39m(dictionary\u001b[39m.\u001b[39mvalues()),\u001b[39mlist\u001b[39m(dictionary\u001b[39m.\u001b[39mkeys())) \n\u001b[0;32m     <a href='vscode-notebook-cell:/c%3A/Users/Ambar/OneDrive/Desktop/all/myown/vscode/projects/Indian_Startup_Analysis/submission/projectev.ipynb#X21sZmlsZQ%3D%3D?line=23'>24</a>\u001b[0m dataf\u001b[39m=\u001b[39mdataf\u001b[39m.\u001b[39msort_values(by\u001b[39m=\u001b[39m[\u001b[39m0\u001b[39m],ascending\u001b[39m=\u001b[39m\u001b[39mFalse\u001b[39;00m) \n",
      "\u001b[1;32mc:\\Users\\Ambar\\OneDrive\\Desktop\\all\\myown\\vscode\\projects\\Indian_Startup_Analysis\\submission\\projectev.ipynb Cell 16\u001b[0m in \u001b[0;36mcreateDictionary\u001b[1;34m(array)\u001b[0m\n\u001b[0;32m      <a href='vscode-notebook-cell:/c%3A/Users/Ambar/OneDrive/Desktop/all/myown/vscode/projects/Indian_Startup_Analysis/submission/projectev.ipynb#X21sZmlsZQ%3D%3D?line=5'>6</a>\u001b[0m dictionary\u001b[39m=\u001b[39m{} \n\u001b[0;32m      <a href='vscode-notebook-cell:/c%3A/Users/Ambar/OneDrive/Desktop/all/myown/vscode/projects/Indian_Startup_Analysis/submission/projectev.ipynb#X21sZmlsZQ%3D%3D?line=6'>7</a>\u001b[0m \u001b[39mfor\u001b[39;00m i \u001b[39min\u001b[39;00m array: \n\u001b[1;32m----> <a href='vscode-notebook-cell:/c%3A/Users/Ambar/OneDrive/Desktop/all/myown/vscode/projects/Indian_Startup_Analysis/submission/projectev.ipynb#X21sZmlsZQ%3D%3D?line=7'>8</a>\u001b[0m \t\u001b[39mif\u001b[39;00m \u001b[39m'\u001b[39;49m\u001b[39m,\u001b[39;49m\u001b[39m'\u001b[39;49m \u001b[39mnot\u001b[39;49;00m \u001b[39min\u001b[39;49;00m i: \n\u001b[0;32m      <a href='vscode-notebook-cell:/c%3A/Users/Ambar/OneDrive/Desktop/all/myown/vscode/projects/Indian_Startup_Analysis/submission/projectev.ipynb#X21sZmlsZQ%3D%3D?line=8'>9</a>\u001b[0m \t\t\u001b[39mif\u001b[39;00m i \u001b[39min\u001b[39;00m dictionary: \n\u001b[0;32m     <a href='vscode-notebook-cell:/c%3A/Users/Ambar/OneDrive/Desktop/all/myown/vscode/projects/Indian_Startup_Analysis/submission/projectev.ipynb#X21sZmlsZQ%3D%3D?line=9'>10</a>\u001b[0m \t\t\tdictionary[i]\u001b[39m=\u001b[39mdictionary\u001b[39m.\u001b[39mget(i)\u001b[39m+\u001b[39m\u001b[39m1\u001b[39m \n",
      "\u001b[1;31mTypeError\u001b[0m: argument of type 'float' is not iterable"
     ]
    }
   ],
   "source": [
    "import pandas as pd \n",
    "import numpy as np \n",
    "df_start=pd.read_csv('startup_funding.csv',encoding='utf-8') \n",
    "df_start['InvestorsName'].dropna(inplace=True) \n",
    "def createDictionary(array): \n",
    "\tdictionary={} \n",
    "\tfor i in array: \n",
    "\t\tif ',' not in i: \n",
    "\t\t\tif i in dictionary: \n",
    "\t\t\t\tdictionary[i]=dictionary.get(i)+1 \n",
    "\t\t\telse: dictionary[i]=1 \n",
    "\t\telse: \n",
    "\t\t\tstring=i.strip().split(',') \n",
    "\t\t\tfor j in string: \n",
    "\t\t\t\tif j.strip() in dictionary: \n",
    "\t\t\t\t\tdictionary[j.strip()]=dictionary.get(j.strip())+1 \n",
    "\t\t\t\telse: \n",
    "\t\t\t\t\tdictionary[j.strip()]=1 \n",
    "\treturn dictionary \n",
    "dictionary=createDictionary(df_start['InvestorsName']) \n",
    "\n",
    "dataf=pd.DataFrame(list(dictionary.values()),list(dictionary.keys())) \n",
    "\n",
    "dataf=dataf.sort_values(by=[0],ascending=False) \n",
    "\n",
    "print(dataf.index[0],dataf.values[0][0])"
   ]
  },
  {
   "attachments": {},
   "cell_type": "markdown",
   "metadata": {},
   "source": [
    "The main changes are:\n",
    "\n",
    "The createDictionary() function is kept the same.\n",
    "\n",
    "The 'InvestorsName' column is converted to string using the astype(str) method before passing it to the createDictionary() function.\n",
    "\n",
    " This ensures that NaN values are replaced with the string 'nan' and prevents the 'float' error from occurring in the function.\n",
    "\n",
    "The values.tolist() method is used to convert the 'InvestorsName' column to a list before passing it to the createDictionary() function. \n",
    "\n",
    "This ensures that the function can handle the list properly and avoids any issues with the pandas Series object.\n",
    "\n",
    "The pd.notnull() method is replaced with the dropna() method to remove NaN values from the 'InvestorsName' column.\n",
    "\n",
    "This code should now run without any errors and produce the correct output."
   ]
  },
  {
   "cell_type": "code",
   "execution_count": 40,
   "metadata": {},
   "outputs": [
    {
     "name": "stdout",
     "output_type": "stream",
     "text": [
      "Sequoia Capital 64\n"
     ]
    }
   ],
   "source": [
    "import pandas as pd \n",
    "import numpy as np \n",
    "\n",
    "def createDictionary(array): \n",
    "    dictionary={} \n",
    "    for i in array: \n",
    "        if ',' not in i: \n",
    "            if i in dictionary: \n",
    "                dictionary[i]=dictionary.get(i)+1 \n",
    "            else: \n",
    "                dictionary[i]=1 \n",
    "        else: \n",
    "            string=i.strip().split(',') \n",
    "            for j in string: \n",
    "                if j.strip() in dictionary: \n",
    "                    dictionary[j.strip()]=dictionary.get(j.strip())+1 \n",
    "                else: \n",
    "                    dictionary[j.strip()]=1 \n",
    "    return dictionary \n",
    "\n",
    "df_start = pd.read_csv('startup_funding.csv', encoding='utf-8') \n",
    "df_start['InvestorsName'].dropna(inplace=True) \n",
    "dictionary = createDictionary(df_start['InvestorsName'].astype(str).values.tolist())  # convert to string and filter out NaN\n",
    "dataf = pd.DataFrame(list(dictionary.values()), list(dictionary.keys())) \n",
    "dataf = dataf.sort_values(by=[0], ascending=False) \n",
    "print(dataf.index[0], dataf.values[0][0])\n"
   ]
  }
 ],
 "metadata": {
  "kernelspec": {
   "display_name": "base",
   "language": "python",
   "name": "python3"
  },
  "language_info": {
   "codemirror_mode": {
    "name": "ipython",
    "version": 3
   },
   "file_extension": ".py",
   "mimetype": "text/x-python",
   "name": "python",
   "nbconvert_exporter": "python",
   "pygments_lexer": "ipython3",
   "version": "3.9.12"
  },
  "orig_nbformat": 4
 },
 "nbformat": 4,
 "nbformat_minor": 2
}
